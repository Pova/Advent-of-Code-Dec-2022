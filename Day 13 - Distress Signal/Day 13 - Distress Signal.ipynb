{
 "cells": [
  {
   "cell_type": "markdown",
   "id": "81722e7b",
   "metadata": {},
   "source": [
    "# Day 13 - Distress Signal"
   ]
  },
  {
   "cell_type": "markdown",
   "id": "ca0e85c4",
   "metadata": {},
   "source": [
    "## Part 1"
   ]
  },
  {
   "cell_type": "code",
   "execution_count": 1,
   "id": "4f7de05a",
   "metadata": {},
   "outputs": [
    {
     "name": "stdout",
     "output_type": "stream",
     "text": [
      "Sum of indices = 5292\n"
     ]
    }
   ],
   "source": [
    "import json\n",
    "\n",
    "with open('input_day13.txt') as f_in:\n",
    "    data = f_in.read()\n",
    "    \n",
    "lines = data.split('\\n')\n",
    "\n",
    "with open('test_day13.txt') as f_in:\n",
    "    test_data = f_in.read()\n",
    "    \n",
    "test_lines = test_data.split('\\n')\n",
    "\n",
    "#lines = test_lines\n",
    "\n",
    "def compareItems(item1,item2):\n",
    "    #print(f'Start of function call ---> comparing: {item1} vs {item2}')\n",
    "    if type(item1) == type(item2):\n",
    "        #print(f'same type: {type(item1)}')\n",
    "        #same type\n",
    "        if type(item1) == int:\n",
    "            #print('both integers')\n",
    "            if item1<item2:\n",
    "                return 1\n",
    "            elif item1>item2:\n",
    "                return -1\n",
    "            else:\n",
    "                return 0\n",
    "        else:\n",
    "            #both lists\n",
    "            #print('both lists')\n",
    "            #print(f'item1 = {item1}')\n",
    "            #print(f'item2 = {item2}')\n",
    "            min_length = min(len(item1),len(item2))\n",
    "            #print(f'Starting for loop [Comparing {item1} vs {item2}]')\n",
    "            for i in range(min_length):\n",
    "                \n",
    "                #CODE\n",
    "                #print(f'i = {i} [Comparing {item1} vs {item2}]')\n",
    "                output = compareItems(item1[i],item2[i])\n",
    "                if output == 1:\n",
    "                    #print('correct order')\n",
    "                    return 1\n",
    "                elif output == -1:\n",
    "                    #print('incorrect order')\n",
    "                    return -1\n",
    "                else:\n",
    "                    #print(f'Cant compare [Comparing {item1} vs {item2}]')\n",
    "                    continue\n",
    "\n",
    "            \n",
    "            if min_length == len(item1) and min_length < len(item2):\n",
    "                #print('left list shorter...')\n",
    "                return 1\n",
    "            elif min_length == len(item2) and min_length < len(item1):\n",
    "                #print('right list shorter...')\n",
    "                return -1\n",
    "            elif len(item1) == len(item2):\n",
    "                #print('same length...')\n",
    "                return 0\n",
    "            else:\n",
    "                pass\n",
    "                #print('Something weird happened')\n",
    "                \n",
    "    else:\n",
    "        #diff types\n",
    "        #print('different types')\n",
    "        if type(item1) == int:\n",
    "            return compareItems([item1],item2)\n",
    "        else:\n",
    "            return compareItems(item1,[item2])\n",
    "        \n",
    "    #print('end of function call ---> comparing: {item1} vs {item2}')\n",
    "\n",
    "def compareLines(line1,line2):\n",
    "    i,j = 0,0\n",
    "    \n",
    "\n",
    "count = 1\n",
    "index_count = []\n",
    "pair_list = []\n",
    "\n",
    "for idx in range(0,len(lines),3):\n",
    "    \n",
    "    line1 = json.loads(lines[idx])\n",
    "    line2 = json.loads(lines[idx+1])\n",
    "    if compareItems(line1,line2) == 1:\n",
    "        #print('In correct order')\n",
    "        index_count.append(count)\n",
    "        pair_list.append((line1,line2))\n",
    "    else:\n",
    "        #print('In incorrect order')\n",
    "        pair_list.append((line2,line1))\n",
    "    count += 1\n",
    "    #print('----------------------')\n",
    "\n",
    "print(f'Sum of indices = {sum(index_count)}')"
   ]
  },
  {
   "cell_type": "markdown",
   "id": "df102dcb",
   "metadata": {},
   "source": [
    "## Part 2"
   ]
  },
  {
   "cell_type": "code",
   "execution_count": 2,
   "id": "2f506088",
   "metadata": {},
   "outputs": [
    {
     "name": "stdout",
     "output_type": "stream",
     "text": [
      "Product of divider packet indices = 23868\n"
     ]
    }
   ],
   "source": [
    "import functools\n",
    "\n",
    "line_list = [[[2]],[[6]]]\n",
    "\n",
    "def customSort(line1,line2):\n",
    "    if compareItems(line1,line2) == 1:\n",
    "        return -1\n",
    "    else:\n",
    "        return +1\n",
    "    \n",
    "for idx in range(0,len(lines),3):\n",
    "    line1 = json.loads(lines[idx])\n",
    "    line_list.append(line1)\n",
    "    line2 = json.loads(lines[idx+1])\n",
    "    line_list.append(line2)\n",
    "\n",
    "sorted_line_list = sorted(line_list, key=functools.cmp_to_key(customSort))\n",
    "index_1 = sorted_line_list.index([[2]])\n",
    "index_2 = sorted_line_list.index([[6]])\n",
    "\n",
    "print(f'Product of divider packet indices = {(index_1+1)*(index_2+1)}')"
   ]
  },
  {
   "cell_type": "code",
   "execution_count": null,
   "id": "aac9183c",
   "metadata": {},
   "outputs": [],
   "source": []
  }
 ],
 "metadata": {
  "kernelspec": {
   "display_name": "Python 3 (ipykernel)",
   "language": "python",
   "name": "python3"
  },
  "language_info": {
   "codemirror_mode": {
    "name": "ipython",
    "version": 3
   },
   "file_extension": ".py",
   "mimetype": "text/x-python",
   "name": "python",
   "nbconvert_exporter": "python",
   "pygments_lexer": "ipython3",
   "version": "3.10.6"
  }
 },
 "nbformat": 4,
 "nbformat_minor": 5
}
