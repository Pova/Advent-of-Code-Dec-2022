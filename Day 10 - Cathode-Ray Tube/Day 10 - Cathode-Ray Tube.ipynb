{
 "cells": [
  {
   "cell_type": "markdown",
   "id": "dfb7c5fc",
   "metadata": {},
   "source": [
    "# Day 10 - Cathode-Ray Tube"
   ]
  },
  {
   "cell_type": "markdown",
   "id": "a215e1df",
   "metadata": {},
   "source": [
    "## Part 1"
   ]
  },
  {
   "cell_type": "code",
   "execution_count": 4,
   "id": "ad6c275a",
   "metadata": {},
   "outputs": [
    {
     "name": "stdout",
     "output_type": "stream",
     "text": [
      "updating output: 320 on cycle num = 20\n",
      "updating output: 1580 on cycle num = 60\n",
      "updating output: 3280 on cycle num = 100\n",
      "updating output: 6220 on cycle num = 140\n",
      "updating output: 10000 on cycle num = 180\n",
      "updating output: 14620 on cycle num = 220\n",
      "14620\n"
     ]
    }
   ],
   "source": [
    "with open('input_day10.txt') as f_in:\n",
    "    data = f_in.read() \n",
    "lines = data.split('\\n')[:-1]\n",
    "\n",
    "with open('test_day10.txt') as f_in:\n",
    "    data = f_in.read() \n",
    "test_lines = data.split('\\n')[:-1]\n",
    "\n",
    "#test = test_lines\n",
    "\n",
    "cycle = 0\n",
    "signal_str = 1\n",
    "output = 0\n",
    "\n",
    "cycle_list = list(range(20,260,40))\n",
    "\n",
    "def checkCycle(cycle_num,signal_str):\n",
    "    if cycle in list(range(20,260,40)):\n",
    "        return True\n",
    "    else:\n",
    "        return False\n",
    "\n",
    "for line in lines:\n",
    "    if line == 'noop':\n",
    "        cycle += 1\n",
    "        if checkCycle(cycle,signal_str):\n",
    "            output += cycle*signal_str\n",
    "            print(f'updating output: {output} on cycle num = {cycle}')\n",
    "    else:\n",
    "        cycle += 1\n",
    "        if checkCycle(cycle,signal_str):\n",
    "            output += cycle*signal_str\n",
    "            print(f'updating output: {output} on cycle num = {cycle}')\n",
    "        cycle += 1\n",
    "        if checkCycle(cycle,signal_str):\n",
    "            output += cycle*signal_str\n",
    "            print(f'updating output: {output} on cycle num = {cycle}')\n",
    "        signal_str += int(line.split()[1])\n",
    "        \n",
    "print(output)\n",
    "    "
   ]
  },
  {
   "cell_type": "markdown",
   "id": "17a091e2",
   "metadata": {},
   "source": [
    "## Part 2"
   ]
  },
  {
   "cell_type": "code",
   "execution_count": 17,
   "id": "f65e9101",
   "metadata": {},
   "outputs": [
    {
     "name": "stdout",
     "output_type": "stream",
     "text": [
      "###....##.####.###..#..#.###..####.#..#.\n",
      "#..#....#.#....#..#.#..#.#..#.#....#..#.\n",
      "###.....#.###..#..#.####.#..#.###..#..#.\n",
      "#..#....#.#....###..#..#.###..#....#..#.\n",
      "#..#.#..#.#....#.#..#..#.#.#..#....#..#.\n",
      "###...##..#....#..#.#..#.#..#.#.....##..\n",
      "\n"
     ]
    }
   ],
   "source": [
    "cycle = 0\n",
    "signal_str = 1\n",
    "output = 0\n",
    "\n",
    "crt_grid = [['.' for _ in range(40)] for _ in range(6)]\n",
    "    \n",
    "def crtCheck(cycle,signal_str):\n",
    "    mod_cycle = (cycle-1)%40\n",
    "    row_num = (cycle-1)//40\n",
    "    if abs(signal_str-mod_cycle)<=1:\n",
    "        crt_grid[row_num][mod_cycle] = '#'\n",
    "    \n",
    "    \n",
    "for line in lines:\n",
    "    if line == 'noop':\n",
    "        cycle += 1\n",
    "        crtCheck(cycle,signal_str)\n",
    "    else:\n",
    "        cycle += 1\n",
    "        crtCheck(cycle,signal_str)\n",
    "        cycle += 1\n",
    "        crtCheck(cycle,signal_str)\n",
    "        signal_str += int(line.split()[1])\n",
    "        \n",
    "\n",
    "crt_str = ''\n",
    "for row in crt_grid:\n",
    "    crt_str += ''.join(row)\n",
    "    crt_str += '\\n'\n",
    "    \n",
    "print(crt_str)"
   ]
  },
  {
   "cell_type": "markdown",
   "id": "e84e8c32",
   "metadata": {},
   "source": [
    "Message: BJFRHRFU"
   ]
  },
  {
   "cell_type": "code",
   "execution_count": null,
   "id": "7a29bf1f",
   "metadata": {},
   "outputs": [],
   "source": []
  }
 ],
 "metadata": {
  "kernelspec": {
   "display_name": "Python 3 (ipykernel)",
   "language": "python",
   "name": "python3"
  },
  "language_info": {
   "codemirror_mode": {
    "name": "ipython",
    "version": 3
   },
   "file_extension": ".py",
   "mimetype": "text/x-python",
   "name": "python",
   "nbconvert_exporter": "python",
   "pygments_lexer": "ipython3",
   "version": "3.10.6"
  }
 },
 "nbformat": 4,
 "nbformat_minor": 5
}
