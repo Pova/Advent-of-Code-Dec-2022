{
 "cells": [
  {
   "cell_type": "markdown",
   "id": "7d5a3775",
   "metadata": {},
   "source": [
    "# Day 8 - Treetop Tree House"
   ]
  },
  {
   "cell_type": "markdown",
   "id": "31952d6e",
   "metadata": {},
   "source": [
    "## Part 1"
   ]
  },
  {
   "cell_type": "code",
   "execution_count": 9,
   "id": "238276b8",
   "metadata": {},
   "outputs": [
    {
     "name": "stdout",
     "output_type": "stream",
     "text": [
      "initial count = 392\n",
      "number of visible trees = 1679\n"
     ]
    }
   ],
   "source": [
    "with open('input_day8.txt') as f_in:\n",
    "    data = f_in.read()\n",
    "    \n",
    "lines = data.split('\\n')[:-1]\n",
    "\n",
    "test = [\n",
    "'30373',\n",
    "'25512',\n",
    "'65332',\n",
    "'33549',\n",
    "'35390'\n",
    "]\n",
    "\n",
    "def check_cell(lines_list, row_num,col_num):\n",
    "    cell_value = int(lines_list[row_num][col_num])\n",
    "    \n",
    "    #check up \n",
    "    \n",
    "    row_idx = row_num-1\n",
    "    while row_idx >= 0:\n",
    "        if int(lines_list[row_idx][col_num]) < cell_value:\n",
    "            row_idx -= 1\n",
    "        else:\n",
    "            break\n",
    "    if row_idx == -1:\n",
    "        return True\n",
    "    \n",
    "    #check right \n",
    "    \n",
    "    col_idx = col_num+1\n",
    "    while col_idx < col_count:\n",
    "        if int(lines_list[row_num][col_idx]) < cell_value:\n",
    "            col_idx += 1\n",
    "        else:\n",
    "            break\n",
    "    if col_idx == col_count:\n",
    "        return True\n",
    "    \n",
    "    #check down \n",
    "    \n",
    "    row_idx = row_num+1\n",
    "    while row_idx < row_count:\n",
    "        if int(lines_list[row_idx][col_num]) < cell_value:\n",
    "            row_idx += 1\n",
    "        else:\n",
    "            break\n",
    "    if row_idx == row_count:\n",
    "        return True\n",
    "    \n",
    "    #check left \n",
    "    \n",
    "    col_idx = col_num-1\n",
    "    while col_idx >= 0:\n",
    "        if int(lines_list[row_num][col_idx]) < cell_value:\n",
    "            col_idx -= 1\n",
    "        else:\n",
    "            break\n",
    "    if col_idx == -1:\n",
    "        return True\n",
    "    \n",
    "    return False\n",
    "\n",
    "#testing set\n",
    "#uncomment to test\n",
    "#lines = test\n",
    "\n",
    "lines_list=list(map(list,lines))\n",
    "\n",
    "row_count = len(lines)\n",
    "col_count = len(lines[0])\n",
    "\n",
    "count = 2*row_count + 2*(col_count-2)\n",
    "print(f'initial count = {count}')\n",
    "for i in range(1,row_count-1):\n",
    "    for j in range(1,col_count-1):\n",
    "        if check_cell(lines_list, i,j):\n",
    "            #print('adding to the count')\n",
    "            count += 1\n",
    "            \n",
    "            \n",
    "print(f'number of visible trees = {count}')"
   ]
  },
  {
   "cell_type": "markdown",
   "id": "7c6e12db",
   "metadata": {},
   "source": [
    "## Part 2"
   ]
  },
  {
   "cell_type": "code",
   "execution_count": 10,
   "id": "f1004910",
   "metadata": {},
   "outputs": [
    {
     "name": "stdout",
     "output_type": "stream",
     "text": [
      "max scenic score = 536625\n"
     ]
    }
   ],
   "source": [
    "def calcScenicScore(lines_list,i,j):\n",
    "    score = 1\n",
    "    #going up\n",
    "    up_dist = 1\n",
    "    for row_num in range(i-1,0,-1):\n",
    "        if lines_list[row_num][j] >= lines_list[i][j]:\n",
    "            break\n",
    "        else:\n",
    "            up_dist += 1\n",
    "\n",
    "    #going right\n",
    "    right_dist = 1\n",
    "    for col_num in range(j+1,col_count-1):\n",
    "        if lines_list[i][col_num] >= lines_list[i][j]:\n",
    "            break\n",
    "        else:\n",
    "            right_dist += 1\n",
    "    \n",
    "    #going down\n",
    "    down_dist = 1\n",
    "    for row_num in range(i+1,row_count-1):\n",
    "        if lines_list[row_num][j] >= lines_list[i][j]:\n",
    "            break\n",
    "        else:\n",
    "            down_dist += 1\n",
    "    \n",
    "    #going left\n",
    "    left_dist = 1\n",
    "    for col_num in range(j-1,0,-1):\n",
    "        if lines_list[i][col_num] >= lines_list[i][j]:\n",
    "            break\n",
    "        else:\n",
    "            left_dist += 1\n",
    "    #print(f'@ index {(i,j)}, scores = {up_dist,right_dist,down_dist,left_dist}')\n",
    "    return up_dist*right_dist*down_dist*left_dist\n",
    "\n",
    "max_scenic_score = 0 ## any trees on the edge\n",
    "\n",
    "for i in range(1,row_count-1):\n",
    "    for j in range(1,col_count-1):\n",
    "        scenic_score = calcScenicScore(lines_list,i,j)\n",
    "        if scenic_score > max_scenic_score:\n",
    "            max_scenic_score = scenic_score\n",
    "        #print(f'score @ position {(i,j)} = {scenic_score}')\n",
    "\n",
    "print(f'max scenic score = {max_scenic_score}')"
   ]
  },
  {
   "cell_type": "code",
   "execution_count": null,
   "id": "918c91c0",
   "metadata": {},
   "outputs": [],
   "source": []
  }
 ],
 "metadata": {
  "kernelspec": {
   "display_name": "Python 3 (ipykernel)",
   "language": "python",
   "name": "python3"
  },
  "language_info": {
   "codemirror_mode": {
    "name": "ipython",
    "version": 3
   },
   "file_extension": ".py",
   "mimetype": "text/x-python",
   "name": "python",
   "nbconvert_exporter": "python",
   "pygments_lexer": "ipython3",
   "version": "3.10.6"
  }
 },
 "nbformat": 4,
 "nbformat_minor": 5
}
