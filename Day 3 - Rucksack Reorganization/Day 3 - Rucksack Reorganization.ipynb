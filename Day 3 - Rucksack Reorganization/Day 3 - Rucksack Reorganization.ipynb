{
 "cells": [
  {
   "cell_type": "markdown",
   "id": "7b68ad58",
   "metadata": {},
   "source": [
    "# Day 3 - Rucksack Reorganization"
   ]
  },
  {
   "cell_type": "markdown",
   "id": "d77f0832",
   "metadata": {},
   "source": [
    "## Part 1"
   ]
  },
  {
   "cell_type": "code",
   "execution_count": 1,
   "id": "36875d37",
   "metadata": {},
   "outputs": [
    {
     "name": "stdout",
     "output_type": "stream",
     "text": [
      "final priority sum = 8493\n"
     ]
    }
   ],
   "source": [
    "def priorityCheck(char):\n",
    "    #returns the priority of characters a --> z (1 --> 26) A --> Z (27 --> 52)\n",
    "    if char.isupper():\n",
    "        return ord(char) - 38\n",
    "    else:\n",
    "        return ord(char) - 96\n",
    "\n",
    "def findItem(backpack):\n",
    "    #returns item incorrectly packed\n",
    "    left_item_dict = {}\n",
    "    right_item_dict = {}\n",
    "    i = 0\n",
    "    j = len(backpack)-1\n",
    "    item = None\n",
    "    while i<j:\n",
    "        left_item = backpack[i]\n",
    "        right_item = backpack[j]\n",
    "        left_item_dict[left_item] = True\n",
    "        right_item_dict[right_item] = True\n",
    "        if left_item in right_item_dict.keys():\n",
    "            item = left_item \n",
    "            break\n",
    "        if right_item in left_item_dict.keys():\n",
    "            item = right_item \n",
    "            break\n",
    "        \n",
    "        i += 1\n",
    "        j -= 1\n",
    "    return item\n",
    "\n",
    "with open('input_day3.txt') as f_in:\n",
    "    data = f_in.read()\n",
    "\n",
    "lines = data.split('\\n')\n",
    "\n",
    "test = [\n",
    "'vJrwpWtwJgWrhcsFMMfFFhFp',\n",
    "'jqHRNqRjqzjGDLGLrsFMfFZSrLrFZsSL',\n",
    "'PmmdzqPrVvPwwTWBwg',\n",
    "'wMqvLMZHhHMvwLHjbvcjnnSBnvTQFn',\n",
    "'ttgJtRGJQctTZtZT',\n",
    "'CrZsJsPPZsGzwwsLwLmpwMDw'\n",
    "]\n",
    "\n",
    "priority_sum = 0\n",
    "for line in lines:\n",
    "    if line != '':\n",
    "         priority_sum += priorityCheck(findItem(line))\n",
    "\n",
    "print(f'final priority sum = {priority_sum}')"
   ]
  },
  {
   "cell_type": "markdown",
   "id": "d2a6590f",
   "metadata": {},
   "source": [
    "## Part 2"
   ]
  },
  {
   "cell_type": "code",
   "execution_count": 3,
   "id": "243a891d",
   "metadata": {},
   "outputs": [
    {
     "name": "stdout",
     "output_type": "stream",
     "text": [
      "total sum = 2552\n"
     ]
    }
   ],
   "source": [
    "if lines[-1] == '':\n",
    "    lines.pop(-1)\n",
    "\n",
    "priority_sum = 0\n",
    "\n",
    "for i in range(0,len(lines),3):\n",
    "    triplet = lines[i:i+3]\n",
    "    bkpk1 = set(triplet[0])\n",
    "    bkpk2 = set(triplet[1])\n",
    "    bkpk3 = set(triplet[2])\n",
    "    common = list(bkpk1.intersection(bkpk2,bkpk3))[0]\n",
    "    priority_sum += priorityCheck(common)\n",
    "    \n",
    "print(f'total sum = {priority_sum}')"
   ]
  },
  {
   "cell_type": "code",
   "execution_count": null,
   "id": "2f061350",
   "metadata": {},
   "outputs": [],
   "source": []
  }
 ],
 "metadata": {
  "kernelspec": {
   "display_name": "Python 3 (ipykernel)",
   "language": "python",
   "name": "python3"
  },
  "language_info": {
   "codemirror_mode": {
    "name": "ipython",
    "version": 3
   },
   "file_extension": ".py",
   "mimetype": "text/x-python",
   "name": "python",
   "nbconvert_exporter": "python",
   "pygments_lexer": "ipython3",
   "version": "3.10.6"
  }
 },
 "nbformat": 4,
 "nbformat_minor": 5
}
