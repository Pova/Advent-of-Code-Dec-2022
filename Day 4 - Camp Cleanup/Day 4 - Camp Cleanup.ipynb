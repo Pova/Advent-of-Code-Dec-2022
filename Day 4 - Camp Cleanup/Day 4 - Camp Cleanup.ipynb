{
 "cells": [
  {
   "cell_type": "markdown",
   "id": "7e5b6999",
   "metadata": {},
   "source": [
    "# Day 4 - Camp Cleanup"
   ]
  },
  {
   "cell_type": "markdown",
   "id": "f95a1a2e",
   "metadata": {},
   "source": [
    "## Part 1"
   ]
  },
  {
   "cell_type": "code",
   "execution_count": 62,
   "id": "d95fadd1",
   "metadata": {},
   "outputs": [
    {
     "name": "stdout",
     "output_type": "stream",
     "text": [
      "total count = 562\n"
     ]
    }
   ],
   "source": [
    "with open('input_day4.txt') as f_in:\n",
    "    data = f_in.read()\n",
    "lines = data.split('\\n')\n",
    "\n",
    "test = [\n",
    "'2-4,6-8',\n",
    "'2-3,4-5',\n",
    "'5-7,7-9',\n",
    "'2-8,3-7',\n",
    "'6-6,4-6',\n",
    "'2-6,4-8'\n",
    "]\n",
    "\n",
    "count = 0\n",
    "for line in lines:\n",
    "    if line == '':\n",
    "        continue\n",
    "\n",
    "    split_line = line.split(',')\n",
    "    left,right = split_line[0].split('-'),split_line[1].split('-')\n",
    "    cleaning_tuple = list((left,right))\n",
    "\n",
    "    if (\n",
    "        int(cleaning_tuple[0][0]) <= int(cleaning_tuple[1][0]) and \n",
    "        int(cleaning_tuple[0][1]) >= int(cleaning_tuple[1][1])\n",
    "    ):\n",
    "        count += 1\n",
    "    elif (\n",
    "        int(cleaning_tuple[0][0]) >= int(cleaning_tuple[1][0]) and \n",
    "        int(cleaning_tuple[0][1]) <= int(cleaning_tuple[1][1])\n",
    "    ):\n",
    "        count += 1\n",
    "print(f'total count = {count}')"
   ]
  },
  {
   "cell_type": "markdown",
   "id": "cc3ecea7",
   "metadata": {},
   "source": [
    "## Part 2"
   ]
  },
  {
   "cell_type": "code",
   "execution_count": 65,
   "id": "09e364ea",
   "metadata": {},
   "outputs": [
    {
     "name": "stdout",
     "output_type": "stream",
     "text": [
      "total count = 924\n"
     ]
    }
   ],
   "source": [
    "count = 0\n",
    "for line in lines:\n",
    "    if line == '':\n",
    "        continue\n",
    "\n",
    "    split_line = line.split(',')\n",
    "    left,right = split_line[0].split('-'),split_line[1].split('-')\n",
    "    cleaning_tuple = list((left,right))\n",
    "\n",
    "    if (\n",
    "        int(cleaning_tuple[0][1]) < int(cleaning_tuple[1][0])\n",
    "    ):\n",
    "        continue\n",
    "    elif (\n",
    "        int(cleaning_tuple[1][1]) < int(cleaning_tuple[0][0]) \n",
    "    ):\n",
    "        continue\n",
    "    #print(cleaning_tuple)\n",
    "    count +=1\n",
    "print(f'total count = {count}')"
   ]
  },
  {
   "cell_type": "code",
   "execution_count": null,
   "id": "0444e039",
   "metadata": {},
   "outputs": [],
   "source": []
  }
 ],
 "metadata": {
  "kernelspec": {
   "display_name": "Python 3 (ipykernel)",
   "language": "python",
   "name": "python3"
  },
  "language_info": {
   "codemirror_mode": {
    "name": "ipython",
    "version": 3
   },
   "file_extension": ".py",
   "mimetype": "text/x-python",
   "name": "python",
   "nbconvert_exporter": "python",
   "pygments_lexer": "ipython3",
   "version": "3.10.6"
  }
 },
 "nbformat": 4,
 "nbformat_minor": 5
}
