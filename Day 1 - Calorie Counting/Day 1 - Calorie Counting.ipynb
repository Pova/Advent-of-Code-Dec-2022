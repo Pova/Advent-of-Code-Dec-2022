{
 "cells": [
  {
   "cell_type": "markdown",
   "id": "f76c4942",
   "metadata": {},
   "source": [
    "# Day 1 - Calorie Counting"
   ]
  },
  {
   "cell_type": "markdown",
   "id": "0974821e",
   "metadata": {},
   "source": [
    "## Part 1"
   ]
  },
  {
   "cell_type": "code",
   "execution_count": 1,
   "id": "46a00d8c",
   "metadata": {},
   "outputs": [
    {
     "name": "stdout",
     "output_type": "stream",
     "text": [
      "max calorie = 74711\n"
     ]
    }
   ],
   "source": [
    "with open('input_day1.txt', 'r') as file:\n",
    "    data = file.read()\n",
    "    \n",
    "data_lines = data.split('\\n')\n",
    "\n",
    "max_calorie = 0\n",
    "idx = 0\n",
    "current_sum = 0\n",
    "\n",
    "while idx<len(data_lines):\n",
    "    if data_lines[idx] == '':\n",
    "        #reached break point\n",
    "        if current_sum > max_calorie:\n",
    "            max_calorie = current_sum\n",
    "        current_sum = 0\n",
    "    else:\n",
    "        current_sum += int(data_lines[idx])\n",
    "    idx += 1\n",
    "\n",
    "#check if final sum at the end of the list could have been the best so far    \n",
    "if current_sum>max_calorie:\n",
    "    max_calorie = current_sum\n",
    "    \n",
    "print(f'max calorie = {max_calorie}')"
   ]
  },
  {
   "cell_type": "markdown",
   "id": "ac2f6285",
   "metadata": {},
   "source": [
    "This was the correct answer! 😀"
   ]
  },
  {
   "cell_type": "markdown",
   "id": "6e185b60",
   "metadata": {},
   "source": [
    "## Algorithmic Analysis\n",
    "\n",
    "### Time complexity: \n",
    "\n",
    "\n",
    "\n",
    "### Space complexity:\n",
    "\n"
   ]
  },
  {
   "cell_type": "markdown",
   "id": "2965ef01",
   "metadata": {},
   "source": [
    "## Day 2"
   ]
  },
  {
   "cell_type": "code",
   "execution_count": 2,
   "id": "f6cfc354",
   "metadata": {},
   "outputs": [
    {
     "name": "stdout",
     "output_type": "stream",
     "text": [
      "sum of top three elves = 209481\n"
     ]
    }
   ],
   "source": [
    "top_3 = [0 for _ in range(3)]\n",
    "\n",
    "idx = 0\n",
    "current_sum = 0\n",
    "\n",
    "while idx<len(data_lines):\n",
    "    if data_lines[idx] == '':\n",
    "        #reached break point\n",
    "        if current_sum > min(top_3):\n",
    "            top_3[0] = current_sum\n",
    "            top_3.sort()\n",
    "        current_sum = 0\n",
    "    else:\n",
    "        current_sum += int(data_lines[idx])\n",
    "    idx += 1\n",
    "\n",
    "#check if final sum at the end of the list could have been the best so far    \n",
    "if current_sum > min(top_3):\n",
    "    top_3[0] = current_sum\n",
    "    \n",
    "print(f'sum of top three elves = {sum(top_3)}')"
   ]
  },
  {
   "cell_type": "markdown",
   "id": "104d619d",
   "metadata": {},
   "source": [
    "This was the correct answer! 😀"
   ]
  },
  {
   "cell_type": "markdown",
   "id": "ee2608bc",
   "metadata": {},
   "source": [
    "## Algorithmic Analysis\n",
    "\n",
    "### Time complexity: \n",
    "\n",
    "\n",
    "\n",
    "### Space complexity:\n",
    "\n"
   ]
  },
  {
   "cell_type": "code",
   "execution_count": null,
   "id": "a7e99e0e",
   "metadata": {},
   "outputs": [],
   "source": []
  }
 ],
 "metadata": {
  "kernelspec": {
   "display_name": "Python 3 (ipykernel)",
   "language": "python",
   "name": "python3"
  },
  "language_info": {
   "codemirror_mode": {
    "name": "ipython",
    "version": 3
   },
   "file_extension": ".py",
   "mimetype": "text/x-python",
   "name": "python",
   "nbconvert_exporter": "python",
   "pygments_lexer": "ipython3",
   "version": "3.10.6"
  }
 },
 "nbformat": 4,
 "nbformat_minor": 5
}
