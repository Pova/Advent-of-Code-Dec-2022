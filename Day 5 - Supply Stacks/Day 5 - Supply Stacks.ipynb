{
 "cells": [
  {
   "cell_type": "markdown",
   "id": "b01dd104",
   "metadata": {},
   "source": [
    "# Day 5 - Supply Stacks"
   ]
  },
  {
   "cell_type": "markdown",
   "id": "d078fbed",
   "metadata": {},
   "source": [
    "## Part 1"
   ]
  },
  {
   "cell_type": "code",
   "execution_count": 27,
   "id": "ee479ce3",
   "metadata": {},
   "outputs": [
    {
     "name": "stdout",
     "output_type": "stream",
     "text": [
      "message = LJSVLTWQM\n"
     ]
    }
   ],
   "source": [
    "with open('input_day5.txt') as f_in:\n",
    "    data = f_in.read()\n",
    "    \n",
    "lines = data.split('\\n')\n",
    "\n",
    "crates = lines[0:8]\n",
    "moves = lines[10:-1] #get rid of empty last line\n",
    "\n",
    "# i = height\n",
    "# j = width\n",
    "\n",
    "crate_cols = []\n",
    "for j in range(9):\n",
    "    col = []\n",
    "    for i in range(len(crates)):\n",
    "        new_crate = crates[-1-i][4*j:4*j+3]\n",
    "        if new_crate != '   ':\n",
    "            col.append(new_crate)\n",
    "        else:\n",
    "            break\n",
    "    crate_cols.append(col)\n",
    "\n",
    "#cheeky deep copy of crate_cols\n",
    "crate_cols_copy = []\n",
    "for idx,col in enumerate(crate_cols):\n",
    "    crate_cols_copy.append(crate_cols[idx].copy())\n",
    "\n",
    "def moveReader(line,crate_list):\n",
    "    #reads a line of moves and performs changes on crate_cols\n",
    "    #print(f'called with: {line}')\n",
    "    \n",
    "    words = line.split()\n",
    "    count = int(words[1])\n",
    "    from_col = int(words[3])\n",
    "    to_col = int(words[5])\n",
    "    \n",
    "    #print(f'moving: {count} crates')\n",
    "    #print(f'from: {crate_cols[from_col-1]}')\n",
    "    #print(f'to: {crate_cols[to_col-1]}')\n",
    "    \n",
    "    for _ in range(count):\n",
    "        crate = crate_list[from_col-1].pop(-1)\n",
    "        crate_list[to_col-1].append(crate)\n",
    "        \n",
    "for line in moves:\n",
    "    moveReader(line,crate_cols_copy)\n",
    "    \n",
    "msg_str = ''\n",
    "for col in crate_cols_copy:\n",
    "    msg_str += col[-1][1]\n",
    "print(f'message = {msg_str}')"
   ]
  },
  {
   "cell_type": "markdown",
   "id": "81dc4b0d",
   "metadata": {},
   "source": [
    "## Part 2"
   ]
  },
  {
   "cell_type": "code",
   "execution_count": 28,
   "id": "0ffc2e53",
   "metadata": {},
   "outputs": [
    {
     "name": "stdout",
     "output_type": "stream",
     "text": [
      "message = BRQWDBBJM\n"
     ]
    }
   ],
   "source": [
    "crate_cols_copy_v2 = []\n",
    "for idx,col in enumerate(crate_cols):\n",
    "    crate_cols_copy_v2.append(crate_cols[idx].copy())\n",
    "    \n",
    "#print(crate_cols_copy_v2)\n",
    "\n",
    "def moveReader_v2(line,crate_list):\n",
    "    #reads a line of moves and performs changes on crate_cols\n",
    "    #print(f'called with: {line}')\n",
    "    \n",
    "    words = line.split()\n",
    "    count = int(words[1])\n",
    "    from_col = int(words[3])\n",
    "    to_col = int(words[5])\n",
    "    \n",
    "    #print(f'moving: {count} crates')\n",
    "    #print(f'from: {crate_list[from_col-1]}')\n",
    "    #print(f'to: {crate_list[to_col-1]}')\n",
    "    \n",
    "    temp_list = []\n",
    "    for _ in range(count):\n",
    "        crate = crate_list[from_col-1].pop(-1)\n",
    "        temp_list.append(crate)\n",
    "    crate_list[to_col-1].extend(reversed(temp_list))\n",
    "    \n",
    "    #print('After:')\n",
    "    #print(f'from: {crate_list[from_col-1]}')\n",
    "    #print(f'to: {crate_list[to_col-1]}')\n",
    "        \n",
    "for line in moves:\n",
    "    moveReader_v2(line,crate_cols_copy_v2)\n",
    "    \n",
    "msg_str = ''\n",
    "for col in crate_cols_copy_v2:\n",
    "    msg_str += col[-1][1]\n",
    "print(f'message = {msg_str}')"
   ]
  },
  {
   "cell_type": "code",
   "execution_count": null,
   "id": "f71382e1",
   "metadata": {},
   "outputs": [],
   "source": []
  }
 ],
 "metadata": {
  "kernelspec": {
   "display_name": "Python 3 (ipykernel)",
   "language": "python",
   "name": "python3"
  },
  "language_info": {
   "codemirror_mode": {
    "name": "ipython",
    "version": 3
   },
   "file_extension": ".py",
   "mimetype": "text/x-python",
   "name": "python",
   "nbconvert_exporter": "python",
   "pygments_lexer": "ipython3",
   "version": "3.10.6"
  }
 },
 "nbformat": 4,
 "nbformat_minor": 5
}
