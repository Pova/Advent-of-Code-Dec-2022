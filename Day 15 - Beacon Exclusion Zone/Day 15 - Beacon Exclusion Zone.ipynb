{
 "cells": [
  {
   "cell_type": "markdown",
   "id": "84036f84",
   "metadata": {},
   "source": [
    "# Day 15 - Beacon Exclusion Zone"
   ]
  },
  {
   "cell_type": "markdown",
   "id": "24091864",
   "metadata": {},
   "source": [
    "## Part 1"
   ]
  },
  {
   "cell_type": "code",
   "execution_count": 27,
   "id": "eb3ea211",
   "metadata": {},
   "outputs": [],
   "source": [
    "with open('input_day15.txt') as f_in:\n",
    "    data = f_in.read()\n",
    "lines = data.split('\\n')[:-1]\n",
    "\n",
    "with open('test_day15.txt') as f_in:\n",
    "    data = f_in.read()\n",
    "test_lines = data.split('\\n')[:-1]\n",
    "#lines = test_lines\n",
    "location_pairs = []\n",
    "\n",
    "def manhattanDistance(coords1,coords2):\n",
    "    return abs(coords1[0] - coords2[0]) + abs(coords1[1] - coords2[1])\n",
    "\n",
    "for line in lines:\n",
    "    split_line = line.split()\n",
    "    sensor_x = int(split_line[2].strip(',')[2:])\n",
    "    sensor_y = int(split_line[3].strip(':')[2:])\n",
    "    beacon_x = int(split_line[8].strip(',')[2:])\n",
    "    beacon_y = int(split_line[9][2:])\n",
    "    location_pairs.append([(sensor_x,sensor_y),(beacon_x,beacon_y)])\n",
    "\n",
    "for pair in location_pairs:\n",
    "    pair.append(manhattanDistance(pair[0],pair[1]))"
   ]
  },
  {
   "cell_type": "code",
   "execution_count": 4,
   "id": "0af0b745",
   "metadata": {},
   "outputs": [
    {
     "name": "stdout",
     "output_type": "stream",
     "text": [
      "Number of locations beacons CANNOT be = 5112034\n"
     ]
    }
   ],
   "source": [
    "#test\n",
    "#y = 10\n",
    "#real\n",
    "y = 2000000\n",
    "\n",
    "\"\"\"\n",
    "Plan:\n",
    "Iterate through all the sensors -> project them onto the line in question...\n",
    "Using the remaining radius generate a list of locations where beacon cannot be\n",
    "Also add any beacons on the line to this list\n",
    "Turn into a set and count up the total number\n",
    "\"\"\"\n",
    "\n",
    "no_beacon_list = []\n",
    "for pair in location_pairs:\n",
    "    sensor_loc = pair[0]\n",
    "\n",
    "    \n",
    "    dist = pair[2]\n",
    "    radius = dist - abs(sensor_loc[1]-y)\n",
    "    if radius >= 0:\n",
    "        #print(f'sensor {sensor_loc} close enough to the line y = {y}')\n",
    "        projected_position = (sensor_loc[0],y)\n",
    "        no_beacon_list.append((sensor_loc[0],y))\n",
    "        for x_diff in range(1,radius+1):\n",
    "            no_beacon_list.append((sensor_loc[0]+x_diff,y))\n",
    "            no_beacon_list.append((sensor_loc[0]-x_diff,y))\n",
    "#     else:\n",
    "#         print(f'sensor {sensor_loc} NOT close enough to the line y = {y}')\n",
    "\n",
    "no_beacon_list = sorted(list(set(no_beacon_list)),key=lambda x:x[0])\n",
    "\n",
    "for pair in location_pairs:\n",
    "    beacon_loc = pair[1]\n",
    "    \n",
    "    if beacon_loc in no_beacon_list:\n",
    "        no_beacon_list.remove(beacon_loc)\n",
    "\n",
    "#print(f'No beacons at:')\n",
    "#print(no_beacon_list)\n",
    "print(f'Number of locations beacons CANNOT be = {len(no_beacon_list)}')"
   ]
  },
  {
   "cell_type": "markdown",
   "id": "191d7528",
   "metadata": {},
   "source": [
    "## Part 2"
   ]
  },
  {
   "cell_type": "code",
   "execution_count": 28,
   "id": "12644ddc",
   "metadata": {},
   "outputs": [
    {
     "name": "stdout",
     "output_type": "stream",
     "text": [
      "Point = (3293021, 3230812)\n"
     ]
    }
   ],
   "source": [
    "min_x = 0\n",
    "max_x = 4000000\n",
    "min_y = 0\n",
    "max_y = 4000000\n",
    "\n",
    "# print(len(location_pairs))\n",
    "# print(location_pairs)\n",
    "\n",
    "boundary_dict = {}\n",
    "intersection_pts = []\n",
    "\n",
    "def findBoundaryPoints(sensor_loc,distance):\n",
    "    distance += 1\n",
    "    # TOP-RIGHT \n",
    "    #print('TOP-RIGHT')\n",
    "    for offset in range(distance,0,-1):\n",
    "        #print((sensor_loc[0]+distance-offset,sensor_loc[1]-offset))\n",
    "        if(\n",
    "            sensor_loc[0]+distance-offset >= min_x and\n",
    "            sensor_loc[0]+distance-offset <= max_x and\n",
    "            sensor_loc[1]-offset >= min_y and\n",
    "            sensor_loc[1]-offset <= max_y\n",
    "        ): \n",
    "            if (sensor_loc[0]+distance-offset,sensor_loc[1]-offset) in boundary_dict.keys():\n",
    "                boundary_dict[(sensor_loc[0]+distance-offset,sensor_loc[1]-offset)] += 1\n",
    "                intersection_pts.append((sensor_loc[0]+distance-offset,sensor_loc[1]-offset))\n",
    "            else:\n",
    "                boundary_dict[(sensor_loc[0]+distance-offset,sensor_loc[1]-offset)] = 1\n",
    "    # BOTTOM-RIGHT \n",
    "    #print('BOTTOM-RIGHT')\n",
    "    for offset in range(distance,0,-1):\n",
    "        #print((sensor_loc[0]+offset,sensor_loc[1]+distance-offset))\n",
    "        if(\n",
    "            sensor_loc[0]+offset >= min_x and\n",
    "            sensor_loc[0]+offset <= max_x and\n",
    "            sensor_loc[1]+distance-offset >= min_y and\n",
    "            sensor_loc[1]+distance-offset <= max_y\n",
    "        ): \n",
    "            if (sensor_loc[0]+offset,sensor_loc[1]+distance-offset) in boundary_dict.keys():\n",
    "                boundary_dict[(sensor_loc[0]+offset,sensor_loc[1]+distance-offset)] += 1\n",
    "                intersection_pts.append((sensor_loc[0]+offset,sensor_loc[1]+distance-offset))\n",
    "            else:\n",
    "                boundary_dict[(sensor_loc[0]+offset,sensor_loc[1]+distance-offset)] = 1 \n",
    "    \n",
    "    # BOTTOM-LEFT \n",
    "    #print('BOTTOM-LEFT')\n",
    "    for offset in range(distance,0,-1):\n",
    "        #print((sensor_loc[0]-distance+offset,sensor_loc[1]+offset))\n",
    "        if(\n",
    "            sensor_loc[0]-distance+offset >= min_x and\n",
    "            sensor_loc[0]-distance+offset <= max_x and\n",
    "            sensor_loc[1]+offset >= min_y and\n",
    "            sensor_loc[1]+offset <= max_y\n",
    "        ): \n",
    "            if (sensor_loc[0]-distance+offset,sensor_loc[1]+offset) in boundary_dict.keys():\n",
    "                boundary_dict[(sensor_loc[0]-distance+offset,sensor_loc[1]+offset)] += 1\n",
    "                intersection_pts.append((sensor_loc[0]-distance+offset,sensor_loc[1]+offset))\n",
    "            else:\n",
    "                boundary_dict[(sensor_loc[0]-distance+offset,sensor_loc[1]+offset)] = 1 \n",
    "    \n",
    "    # TOP-LEFT \n",
    "    #print('TOP-LEFT')\n",
    "    for offset in range(distance,0,-1):\n",
    "        #print((sensor_loc[0]-offset,sensor_loc[1]-distance+offset))\n",
    "        if(\n",
    "            sensor_loc[0]-offset >= min_x and\n",
    "            sensor_loc[0]-offset <= max_x and\n",
    "            sensor_loc[1]-distance+offset >= min_y and\n",
    "            sensor_loc[1]-distance+offset <= max_y\n",
    "        ): \n",
    "            if (sensor_loc[0]-offset,sensor_loc[1]-distance+offset) in boundary_dict.keys():\n",
    "                boundary_dict[(sensor_loc[0]-offset,sensor_loc[1]-distance+offset)] += 1\n",
    "                intersection_pts.append((sensor_loc[0]-offset,sensor_loc[1]-distance+offset))\n",
    "            else:\n",
    "                boundary_dict[(sensor_loc[0]-offset,sensor_loc[1]-distance+offset)] = 1 \n",
    "    \n",
    "#findBoundaryPoints((5,3),2)\n",
    "#findBoundaryPoints((7,6),5)\n",
    "\n",
    "for pair in location_pairs:\n",
    "    findBoundaryPoints(pair[0],pair[2])\n",
    "\n",
    "#print(boundary_dict)\n",
    "#print(intersection_pts)\n",
    "\n",
    "for pt in intersection_pts:\n",
    "    for pair in location_pairs:\n",
    "        if manhattanDistance(pair[0],pt) > pair[2]:\n",
    "            continue\n",
    "        else:\n",
    "            break\n",
    "    else:\n",
    "        print(f'Point = {pt}')\n",
    "        break\n",
    "        \n",
    "# nearby_count = {}\n",
    "\n",
    "# for first_int_loc in intersection_pts:\n",
    "#     for second_int_loc in intersection_pts:\n",
    "#         if manhattanDistance(first_int_loc,second_int_loc)==2:\n",
    "#             if first_int_loc in nearby_count.keys():\n",
    "#                 nearby_count[first_int_loc] += 1\n",
    "#             else:\n",
    "#                 nearby_count[first_int_loc] = 1\n",
    "# #         if ((first_int_loc[0] == second_int_loc[0] and\n",
    "# #             abs(first_int_loc[1] - second_int_loc[1]) == 2) or\n",
    "# #             (first_int_loc[1] == second_int_loc[1] and\n",
    "# #             abs(first_int_loc[0] - second_int_loc[0]) == 2)\n",
    "# #         ): \n",
    "# #             intersection_shortlist.append((first_int_loc,second_int_loc))\n",
    "            \n",
    "# for key in nearby_count.keys():\n",
    "#     if nearby_count[key]>2:\n",
    "#         print(f'check point: {key}')\n",
    "    \n",
    "\n",
    "#intersection_shortlist = list(set(intersection_shortlist))\n",
    "#print(intersection_shortlist)"
   ]
  },
  {
   "cell_type": "code",
   "execution_count": 29,
   "id": "6724fa70",
   "metadata": {},
   "outputs": [
    {
     "name": "stdout",
     "output_type": "stream",
     "text": [
      "Tuning frequency = 13172087230812\n"
     ]
    }
   ],
   "source": [
    "pt = (3293021, 3230812)\n",
    "print(f'Tuning frequency = {4000000*pt[0]+pt[1]}')"
   ]
  },
  {
   "cell_type": "code",
   "execution_count": null,
   "id": "33db801a",
   "metadata": {},
   "outputs": [],
   "source": []
  }
 ],
 "metadata": {
  "kernelspec": {
   "display_name": "Python 3 (ipykernel)",
   "language": "python",
   "name": "python3"
  },
  "language_info": {
   "codemirror_mode": {
    "name": "ipython",
    "version": 3
   },
   "file_extension": ".py",
   "mimetype": "text/x-python",
   "name": "python",
   "nbconvert_exporter": "python",
   "pygments_lexer": "ipython3",
   "version": "3.10.6"
  }
 },
 "nbformat": 4,
 "nbformat_minor": 5
}
