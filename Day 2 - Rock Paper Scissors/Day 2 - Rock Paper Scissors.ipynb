{
 "cells": [
  {
   "cell_type": "markdown",
   "id": "1910e6e3",
   "metadata": {},
   "source": [
    "# Day 2 - Rock Paper Scissors"
   ]
  },
  {
   "cell_type": "markdown",
   "id": "81337ac1",
   "metadata": {},
   "source": [
    "## Part 1"
   ]
  },
  {
   "cell_type": "code",
   "execution_count": 1,
   "id": "27e94f74",
   "metadata": {},
   "outputs": [
    {
     "name": "stdout",
     "output_type": "stream",
     "text": [
      "total points = 14375\n"
     ]
    }
   ],
   "source": [
    "with open('input_day2.txt') as f_in:\n",
    "    data = f_in.read()\n",
    "    \n",
    "lines = data.split('\\n')\n",
    "\n",
    "# A = Rock, B = Paper, C = Scissors\n",
    "# X = Rock, Y = Paper, Z = Scissors\n",
    "# Points: Rock = 1, Paper = 2, Scissors = 3\n",
    "# Loss = 0, Draw = 3, Win = 6\n",
    "\n",
    "pts_dict = {'A':1, 'B':2, 'C':3, 'X':1, 'Y':2, 'Z':3}\n",
    "\n",
    "\"\"\"\n",
    "Input: line of the input data\n",
    "Output: Score from this line\n",
    "\"\"\"\n",
    "def pointsPerGame(line):\n",
    "    if line == '':\n",
    "        return 0\n",
    "    diff = (pts_dict[line[0]] - pts_dict[line[2]])%3\n",
    "    if diff==0:\n",
    "        return 3 + pts_dict[line[2]]\n",
    "    elif diff == 1:\n",
    "        return pts_dict[line[2]]\n",
    "    else:\n",
    "        return 6 + pts_dict[line[2]]\n",
    "    \n",
    "# ------------------------------------------\n",
    "\n",
    "points = 0\n",
    "for line in lines:\n",
    "    points += pointsPerGame(line)\n",
    "    \n",
    "print(f'total points = {points}')"
   ]
  },
  {
   "cell_type": "markdown",
   "id": "6a30c5ba",
   "metadata": {},
   "source": [
    "This was the correct answer! 😀"
   ]
  },
  {
   "cell_type": "markdown",
   "id": "ece7cba9",
   "metadata": {},
   "source": [
    "## Algorithmic Analysis\n",
    "\n",
    "### Time complexity: \n",
    "\n",
    "\n",
    "\n",
    "### Space complexity:\n",
    "\n"
   ]
  },
  {
   "cell_type": "markdown",
   "id": "8fa9bb1b",
   "metadata": {},
   "source": [
    "## Part 2"
   ]
  },
  {
   "cell_type": "code",
   "execution_count": 2,
   "id": "62eaf6de",
   "metadata": {},
   "outputs": [
    {
     "name": "stdout",
     "output_type": "stream",
     "text": [
      "results for part 2 = 10274\n"
     ]
    }
   ],
   "source": [
    "results_dict = {'X': 0, 'Y': 3, 'Z':6}\n",
    "\n",
    "def pointsPerGame2(line):\n",
    "    if line == '':\n",
    "        return 0\n",
    "    result_pts = results_dict[line[2]]\n",
    "    if line[2] == 'Y':\n",
    "        play_pts = pts_dict[line[0]]\n",
    "    elif line[2] == 'X':\n",
    "        #lose\n",
    "        play_pts = pts_dict[line[0]] + 2\n",
    "    else:\n",
    "        #win\n",
    "        play_pts = pts_dict[line[0]] + 1\n",
    "    if play_pts > 3:\n",
    "        play_pts -= 3\n",
    "    return result_pts + play_pts\n",
    "\n",
    "points = 0\n",
    "for line in lines:\n",
    "    points += pointsPerGame2(line)\n",
    "\n",
    "print(f'results for part 2 = {points}')"
   ]
  },
  {
   "cell_type": "markdown",
   "id": "7d01b8bb",
   "metadata": {},
   "source": [
    "This was the correct answer! 😀"
   ]
  },
  {
   "cell_type": "markdown",
   "id": "ea7f1341",
   "metadata": {},
   "source": [
    "## Algorithmic Analysis\n",
    "\n",
    "### Time complexity: \n",
    "\n",
    "\n",
    "\n",
    "### Space complexity:\n",
    "\n"
   ]
  },
  {
   "cell_type": "code",
   "execution_count": null,
   "id": "682693f6",
   "metadata": {},
   "outputs": [],
   "source": []
  }
 ],
 "metadata": {
  "kernelspec": {
   "display_name": "Python 3 (ipykernel)",
   "language": "python",
   "name": "python3"
  },
  "language_info": {
   "codemirror_mode": {
    "name": "ipython",
    "version": 3
   },
   "file_extension": ".py",
   "mimetype": "text/x-python",
   "name": "python",
   "nbconvert_exporter": "python",
   "pygments_lexer": "ipython3",
   "version": "3.10.6"
  }
 },
 "nbformat": 4,
 "nbformat_minor": 5
}
