{
 "cells": [
  {
   "cell_type": "markdown",
   "id": "d29e2eaf",
   "metadata": {},
   "source": [
    "# Day 6 - Tuning Trouble"
   ]
  },
  {
   "cell_type": "markdown",
   "id": "d6db4071",
   "metadata": {},
   "source": [
    "## Part 1"
   ]
  },
  {
   "cell_type": "code",
   "execution_count": 9,
   "id": "9a3b6517",
   "metadata": {
    "scrolled": true
   },
   "outputs": [
    {
     "name": "stdout",
     "output_type": "stream",
     "text": [
      "char index = 1833\n"
     ]
    }
   ],
   "source": [
    "with open('input_day6.txt') as f_in:\n",
    "    data = f_in.read()\n",
    "\n",
    "data_stream = data.split('\\n')[0]\n",
    "\n",
    "def subRoutine(data_stream):\n",
    "    idx = 4\n",
    "    chars=data_stream[idx-4:idx]\n",
    "    chars_set = set(chars)\n",
    "    while len(chars_set) != 4:\n",
    "        idx += 1\n",
    "        chars=data_stream[idx-4:idx]\n",
    "        chars_set = set(chars)\n",
    "    print(f'char index = {idx}')\n",
    "    \n",
    "subRoutine(data_stream)\n",
    "        "
   ]
  },
  {
   "cell_type": "markdown",
   "id": "975bf59e",
   "metadata": {},
   "source": [
    "## Part 2"
   ]
  },
  {
   "cell_type": "code",
   "execution_count": 10,
   "id": "ae0d55d1",
   "metadata": {},
   "outputs": [
    {
     "name": "stdout",
     "output_type": "stream",
     "text": [
      "char index = 3425\n"
     ]
    }
   ],
   "source": [
    "def subRoutine_v2(data_stream):\n",
    "    idx = 14\n",
    "    chars=data_stream[idx-14:idx]\n",
    "    chars_set = set(chars)\n",
    "    while len(chars_set) != 14:\n",
    "        idx += 1\n",
    "        chars=data_stream[idx-14:idx]\n",
    "        chars_set = set(chars)\n",
    "    print(f'char index = {idx}')\n",
    "    \n",
    "subRoutine_v2(data_stream)"
   ]
  },
  {
   "cell_type": "markdown",
   "id": "ee5b2ca7",
   "metadata": {},
   "source": [
    "## Probably a nasty inefficient way of doing this... Find a better way to do this?"
   ]
  },
  {
   "cell_type": "code",
   "execution_count": null,
   "id": "9439fcef",
   "metadata": {},
   "outputs": [],
   "source": []
  }
 ],
 "metadata": {
  "kernelspec": {
   "display_name": "Python 3 (ipykernel)",
   "language": "python",
   "name": "python3"
  },
  "language_info": {
   "codemirror_mode": {
    "name": "ipython",
    "version": 3
   },
   "file_extension": ".py",
   "mimetype": "text/x-python",
   "name": "python",
   "nbconvert_exporter": "python",
   "pygments_lexer": "ipython3",
   "version": "3.10.6"
  }
 },
 "nbformat": 4,
 "nbformat_minor": 5
}
